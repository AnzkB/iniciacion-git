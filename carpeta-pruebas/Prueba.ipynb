{
  "metadata": {
    "kernelspec": {
      "name": "python",
      "display_name": "Python (Pyodide)",
      "language": "python"
    },
    "language_info": {
      "codemirror_mode": {
        "name": "python",
        "version": 3
      },
      "file_extension": ".py",
      "mimetype": "text/x-python",
      "name": "python",
      "nbconvert_exporter": "python",
      "pygments_lexer": "ipython3",
      "version": "3.8"
    }
  },
  "nbformat_minor": 5,
  "nbformat": 4,
  "cells": [
    {
      "id": "50af5b8a-c3c5-469d-924b-bc1df30bc08d",
      "cell_type": "code",
      "source": "from matplotlib import pyplot as plt\nimport numpy as np\n\nx = np.linspace(0, 2*np.pi, 1001)\ny = np.sin(x)\nf = plt.plot(x,y)",
      "metadata": {
        "trusted": true
      },
      "outputs": [],
      "execution_count": null
    }
  ]
}